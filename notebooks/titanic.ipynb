{
 "cells": [
  {
   "cell_type": "code",
   "execution_count": null,
   "metadata": {},
   "outputs": [],
   "source": [
    "import pandas as pd\n",
    "import boto3\n",
    "\n",
    "bucket = 'titanic-sagemaker'\n",
    "data_key = 'input'\n",
    "\n",
    "train_data_location = 's3://{}/{}/{}'.format(bucket, data_key, 'train.csv')\n",
    "test_data_location = 's3://{}/{}/{}'.format(bucket, data_key, 'test.csv')\n",
    "\n",
    "train_data = pd.read_csv(train_data_location)\n",
    "test_data = pd.read_csv(test_data_location)\n",
    "\n",
    "print(train_data.columns)\n",
    "print(test_data.columns)\n",
    "\n",
    "print(train_data.head())\n",
    "print(test_data.head())\n",
    "\n",
    "# Variable Notes\n",
    "\n",
    "# PassengerId: Unique identifier for the passenger\n",
    "# Survived: 1 if passenger survived 0 otherwise\n",
    "# Pclass: 1 = Upper, 2 = Middle,3 = Lower\n",
    "# Name: Passenger's name\n",
    "# Sex: Gender of the passenger denoted by 'male', 'female'\n",
    "# Age: Age is fractional if less than 1. If the age is estimated, is it in the form of xx.5\n",
    "# SibSp: No of siblings / spouses aboard the Titanic\n",
    "# Parch: No of parents / children aboard the Titanic\n",
    "# Ticket: Ticket number\n",
    "# Fare: Passenger fare\n",
    "# Cabin: Passenger cabin\n",
    "# Embarked: Port of Embarkation; C = Cherbourg, Q = Queenstown, S = Southampton"
   ]
  },
  {
   "cell_type": "code",
   "execution_count": null,
   "metadata": {},
   "outputs": [],
   "source": []
  }
 ],
 "metadata": {
  "kernelspec": {
   "display_name": "conda_python3",
   "language": "python",
   "name": "conda_python3"
  },
  "language_info": {
   "codemirror_mode": {
    "name": "ipython",
    "version": 3
   },
   "file_extension": ".py",
   "mimetype": "text/x-python",
   "name": "python",
   "nbconvert_exporter": "python",
   "pygments_lexer": "ipython3",
   "version": "3.6.5"
  }
 },
 "nbformat": 4,
 "nbformat_minor": 2
}
